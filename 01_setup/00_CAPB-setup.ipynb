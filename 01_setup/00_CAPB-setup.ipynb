{
 "cells": [
  {
   "cell_type": "markdown",
   "metadata": {},
   "source": [
    "# CAPB - Working with Large Text or Excel Data Files"
   ]
  },
  {
   "cell_type": "markdown",
   "metadata": {},
   "source": [
    "## Install Anaconda or Miniconda\n",
    "\n",
    "You can choose the Python version 2.X or 3.X. I recommend 3.X because it is the newer version and eventually 2.X will stop being developed.\n",
    "\n",
    "Anaconda includes a lot more than Miniconda which makes it a much larger software package to install. I would recommend the Anaconda Graphical Installer because it includes a user interface to interact with instead of just a command prompt / terminal, but if you don't have a lot of space on your computer, the Miniconda version is fine.\n",
    "\n",
    "***if you are running Windows, check to see if your computer is a 32-bit or 64-bit system and select the correct anaconda version to install. If you don't know how to check, follow this [link](https://support.microsoft.com/en-us/help/827218/how-to-determine-whether-a-computer-is-running-a-32-bit-version-or-64)\n",
    "\n",
    "[Anaconda download link](https://www.anaconda.com/distribution/)\n",
    "\n",
    "[Miniconda download link](https://docs.conda.io/en/latest/miniconda.html)"
   ]
  },
  {
   "cell_type": "markdown",
   "metadata": {},
   "source": [
    "## After Installing Anaconda / Miniconda\n",
    "\n",
    "After you have successfully installed Anaconda or Miniconda, open an Anaconda prompt\n",
    "\n",
    "If you have any trouble with the installation or finding the prompt, check out this [link](https://docs.anaconda.com/anaconda/install/verify-install/)\n",
    "\n",
    "![Anaconda Prompt](anaconda_prompt.PNG \"This is what it will look like on a Windows computer\")\n",
    "\n",
    "This is what it will look like on a Windows computer"
   ]
  },
  {
   "cell_type": "markdown",
   "metadata": {},
   "source": [
    "Type in the following command <code> cd Desktop </code> and press Enter\n",
    "\n",
    "You have moved into your Desktop folder\n",
    "\n",
    "To get the files we need, you need a package called <b>git</b>, which is a version control system\n",
    "\n",
    "Type <code> conda install git </code> click enter, and follow the prompts on the screen\n",
    "\n",
    "After the installation is successful, type <code>git clone https://github.com/btw1027/CAPB </code> and press Enter\n",
    "\n",
    "This command downloads (clones) a folder (repository) from github (version control software) with all the files for the CAPB workshop"
   ]
  },
  {
   "cell_type": "markdown",
   "metadata": {},
   "source": [
    "## Install Conda Environment\n",
    "\n",
    "Now we have to move into the newly downloaded CAPB folder\n",
    "\n",
    "Type <code> cd CAPB </code> to move into the folder\n",
    "\n",
    "On a mac/linux system <code> ls </code> will show you what is in the folder, <code> dir </code> is the command for Windows\n",
    "\n",
    "![Anaconda Prompt DIR](anaconda_prompt_dir.PNG \"This is what it will look like on a Windows computer\")"
   ]
  },
  {
   "cell_type": "markdown",
   "metadata": {},
   "source": [
    "To install all the packages we need for the workshop, we need to create a conda environment \n",
    "\n",
    "There is a file called environment.yml that contains all the information necessary to automatically create the environment\n",
    "\n",
    "Type the command <code>conda env create -f environment.yml </code> to install the CAPB environment "
   ]
  },
  {
   "cell_type": "markdown",
   "metadata": {},
   "source": [
    "## Working with Jupyter Notebooks\n",
    "\n",
    "Now you should have an environmnet named capb installed \n",
    "\n",
    "You can activate the environment within the command prompt / terminal by typing:\n",
    "\n",
    "Windows: <code> activate capb </code>\n",
    "\n",
    "Mac/Linux: <code> source activate capb </code>"
   ]
  },
  {
   "cell_type": "markdown",
   "metadata": {},
   "source": [
    "Now you should see (capb) at the beginning of the line of the command prompt / terminal indicating you have activated the environment \n",
    "\n",
    "![Anaconda Prompt capb](anaconda_prompt_capb.PNG \"This is what it will look like on a Windows computer\")"
   ]
  },
  {
   "cell_type": "code",
   "execution_count": null,
   "metadata": {},
   "outputs": [],
   "source": []
  }
 ],
 "metadata": {
  "kernelspec": {
   "display_name": "CAPB",
   "language": "python",
   "name": "capb"
  },
  "language_info": {
   "codemirror_mode": {
    "name": "ipython",
    "version": 3
   },
   "file_extension": ".py",
   "mimetype": "text/x-python",
   "name": "python",
   "nbconvert_exporter": "python",
   "pygments_lexer": "ipython3",
   "version": "3.7.1"
  }
 },
 "nbformat": 4,
 "nbformat_minor": 2
}
