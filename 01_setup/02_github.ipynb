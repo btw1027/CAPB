{
 "cells": [
  {
   "cell_type": "markdown",
   "metadata": {},
   "source": [
    "# Github\n",
    "\n",
    "What is \"version control\", and why should you care? Version control is a system that records changes to a file or set of files over time so that you can recall specific versions later. For the examples in this book you will use software source code as the files being version controlled, though in reality you can do this with nearly any type of file on a computer.\n",
    "\n",
    "If you are a graphic or web designer and want to keep every version of an image or layout (which you would most certainly want to), a Version Control System (VCS) is a very wise thing to use. It allows you to revert files back to a previous state, revert the entire project back to a previous state, compare changes over time, see who last modified something that might be causing a problem, who introduced an issue and when, and more. Using a VCS also generally means that if you screw things up or lose files, you can easily recover. In addition, you get all this for very little overhead. \n",
    "\n",
    "The major difference between Git and any other VCS (Subversion and friends included) is the way Git thinks about its data. Conceptually, most other systems store information as a list of file-based changes. These systems (CVS, Subversion, Perforce, Bazaar, and so on) think of the information they keep as a set of files and the changes made to each file over time.\n",
    "\n",
    "Git doesn’t think of or store its data this way. Instead, Git thinks of its data more like a set of snapshots of a miniature filesystem. Every time you commit, or save the state of your project in Git, it basically takes a picture of what all your files look like at that moment and stores a reference to that snapshot. To be efficient, if files have not changed, Git doesn’t store the file again, just a link to the previous identical file it has already stored. Git thinks about its data more like a stream of snapshots.\n",
    "\n",
    "This is an important distinction between Git and nearly all other VCSs. It makes Git reconsider almost every aspect of version control that most other systems copied from the previous generation. This makes Git more like a mini filesystem with some incredibly powerful tools built on top of it, rather than simply a VCS. We’ll explore some of the benefits you gain by thinking of your data this way when we cover Git branching in Git Branching.\n",
    "(https://git-scm.com/book/en/v2/Getting-Started-About-Version-Control)"
   ]
  },
  {
   "cell_type": "markdown",
   "metadata": {},
   "source": [
    "## Workflow\n",
    "\n",
    "#### Local\n",
    "<pre>\n",
    "cd directory\n",
    "git init\n",
    "git status #lists untracked files\n",
    "git add . #adds all files, but could specify certain files\n",
    "git commit -m \"Commit Message: What changed? First Commit!\"\n",
    "</pre>\n",
    "\n",
    "#### Link Local to Remote\n",
    "\n",
    "First, create a new repository on Github (+ New Repository)\n",
    "*If you choose to initialize with a README file, a couple extra steps are necessary. \n",
    "<pre>\n",
    "git remote add origin \"remote repository URL\" (e.g. https://github.com/user/repo.git)\n",
    "git remote -v #verify remote address\n",
    "</pre>\n",
    "\n",
    "If you chose to initialize with a README file, you first need to pull from the Master repository to ensure all of the files are up to date. Specifically, all files in the master (so the README) need to be in the local repo when pushing or you'll get an error when you first try)\n",
    "\n",
    "<pre>\n",
    "git pull \"remote repository URL\" (e.g. https://github.com/user/repo.git)\n",
    "git push origin master\n",
    "</pre>\n",
    "\n",
    "#### Cloning Remote Repo to Local\n",
    "\n",
    "<pre>\n",
    "cd directory\n",
    "git clone \"remote repository URL\" (e.g. https://github.com/user/repo.git)\n",
    "</pre>\n",
    "\n",
    "## Setup\n",
    "\n",
    "[https - credential helper](https://help.github.com/articles/caching-your-github-password-in-git/)\n",
    "<pre>\n",
    "git config --global credential.helper wincred\n",
    "</pre>"
   ]
  },
  {
   "cell_type": "code",
   "execution_count": null,
   "metadata": {
    "collapsed": true
   },
   "outputs": [],
   "source": []
  }
 ],
 "metadata": {
  "kernelspec": {
   "display_name": "Python 3",
   "language": "python",
   "name": "python3"
  },
  "language_info": {
   "codemirror_mode": {
    "name": "ipython",
    "version": 3
   },
   "file_extension": ".py",
   "mimetype": "text/x-python",
   "name": "python",
   "nbconvert_exporter": "python",
   "pygments_lexer": "ipython3",
   "version": "3.7.1"
  }
 },
 "nbformat": 4,
 "nbformat_minor": 2
}
