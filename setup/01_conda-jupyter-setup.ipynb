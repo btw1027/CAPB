{
 "cells": [
  {
   "cell_type": "markdown",
   "metadata": {},
   "source": [
    "# Installing Python with Anaconda & Getting Started With Jupyter Notebooks"
   ]
  },
  {
   "cell_type": "markdown",
   "metadata": {},
   "source": [
    "## Anaconda Setup##"
   ]
  },
  {
   "cell_type": "markdown",
   "metadata": {},
   "source": [
    "[Download](https://www.continuum.io/downloads) the newest version of Anaconda for Python (2 or 3), though either is fine as we will use conda environments to create environments that allow us to specify which version of Python to build. Conda is the package manager that comes with Anaconda and makes it easy to install and manage all your packages and environments on your respective operating system."
   ]
  },
  {
   "cell_type": "markdown",
   "metadata": {},
   "source": [
    "Open an Anaconda Command Prompt after installing Anaconda and it should look something like the line below with your own computer Username substituted if you're on a Windows computer."
   ]
  },
  {
   "cell_type": "markdown",
   "metadata": {},
   "source": [
    "<pre>(C:\\Anaconda2) C:\\Users\\Username>"
   ]
  },
  {
   "cell_type": "markdown",
   "metadata": {},
   "source": [
    "To begin using conda environments (which are highly recommended to enable quick development and tracking of package dependencies) you can create new environments or view existing environments. Read more about why virtual environments are important here[1](https://www.continuum.io/blog/developer-blog/python-packages-and-environments-conda),[2](https://realpython.com/blog/python/python-virtual-environments-a-primer/),[3](https://python-docs.readthedocs.io/en/latest/dev/virtualenvs.html)"
   ]
  },
  {
   "cell_type": "markdown",
   "metadata": {},
   "source": [
    "## Conda Environments ##"
   ]
  },
  {
   "cell_type": "code",
   "execution_count": 5,
   "metadata": {
    "collapsed": true
   },
   "outputs": [],
   "source": [
    "#view existing environments"
   ]
  },
  {
   "cell_type": "markdown",
   "metadata": {},
   "source": [
    "<pre>(C:\\Anaconda2) C:\\Users\\Username> conda info --envs</pre>\n",
    "\n",
    "OR\n",
    "\n",
    "<pre>(C:\\Anaconda2) C:\\Users\\Username> conda env list</pre>"
   ]
  },
  {
   "cell_type": "code",
   "execution_count": 6,
   "metadata": {
    "collapsed": true
   },
   "outputs": [],
   "source": [
    "#create a new conda environment named myEnvironmentName with python version 3.5"
   ]
  },
  {
   "cell_type": "markdown",
   "metadata": {},
   "source": [
    "<pre>(C:\\Anaconda2) C:\\Users\\Username> conda create --name myEnvironmentName python=3.5 "
   ]
  },
  {
   "cell_type": "markdown",
   "metadata": {},
   "source": [
    "There are a number of other options that you can choose from when creating a new conda environment such as cloning an existing environment or creating the environment with a list of packages to minimze dependency conflicts. To see all of the options using the command:"
   ]
  },
  {
   "cell_type": "markdown",
   "metadata": {},
   "source": [
    "<pre>(C:\\Anaconda2) C:\\Users\\Username> conda create --help"
   ]
  },
  {
   "cell_type": "code",
   "execution_count": null,
   "metadata": {
    "collapsed": true
   },
   "outputs": [],
   "source": [
    "#export an environment's packages using this command to save a file called environment.yml "
   ]
  },
  {
   "cell_type": "markdown",
   "metadata": {},
   "source": [
    "<pre>(C:\\Anaconda2) C:\\Users\\Username> conda env export > environment.yml "
   ]
  },
  {
   "cell_type": "code",
   "execution_count": 8,
   "metadata": {
    "collapsed": true
   },
   "outputs": [],
   "source": [
    "#create an environment using the environment.yml file by changing directories (cd) to where the file is located and:"
   ]
  },
  {
   "cell_type": "markdown",
   "metadata": {},
   "source": [
    "<pre>(C:\\Anaconda2) C:\\Users\\Username> conda env create -f environment.yml"
   ]
  },
  {
   "cell_type": "markdown",
   "metadata": {},
   "source": [
    "More info on creating and managing conda environments:\n",
    "\n",
    "* https://conda.io/docs/using/envs.html#export-the-environment-file"
   ]
  },
  {
   "cell_type": "markdown",
   "metadata": {},
   "source": [
    "On a Windows machine, to activate the environment just type <pre>activate myEnvironmentName </pre>\n",
    "\n",
    "On a mac you need to type <pre>source activate myEnvironmentName</pre>"
   ]
  },
  {
   "cell_type": "markdown",
   "metadata": {},
   "source": [
    "## Jupyter Notebooks with Conda Environments"
   ]
  },
  {
   "cell_type": "markdown",
   "metadata": {},
   "source": [
    "Jupyter notebooks are a useful development tool. \"The [Jupyter Notebook](https://jupyter.org/) is an open-source web application that allows you to create and share documents that contain live code, equations, visualizations and explanatory text. Uses include: data cleaning and transformation, numerical simulation, statistical modeling, machine learning and much more.\"\n",
    "\n",
    "To install the jupyter notebook package, we use the command <pre>conda install jupyter</pre> Another useful package nb_conda [\"provides Conda environment and package access extension from within Jupyter.\"](https://github.com/Anaconda-Platform/nb_conda) Similarly, it can be downloaded with the command <pre> conda install nb_conda </pre> or both of the packages can be installed with one command below"
   ]
  },
  {
   "cell_type": "markdown",
   "metadata": {},
   "source": [
    "<pre>(C:\\Anaconda2) C:\\Users\\Username> conda install jupyter nb_conda"
   ]
  },
  {
   "cell_type": "markdown",
   "metadata": {},
   "source": [
    "The Jupyter Notebook and other frontends automatically ensure that the IPython kernel is available. However, if you want to use a kernel with a different version of Python, or in a virtualenv or conda environment, you’ll need to install that manually.\n",
    "\n",
    "For example, if we would like to create a python 2 environment with conda and then install a kernel spec file for the current python installation we can run the following code. \n",
    "\n",
    "<pre>\n",
    "conda create -n myEnvironmentName python=2 ipykernel\n",
    "activate myEnvironmentName    \n",
    "python -m ipykernel install --user\n",
    "</pre>\n",
    "\n",
    "Kernel spec files are JSON files, which can be viewed and changed with a normal text editor. If you want to have multiple IPython kernels for different virtualenvs or conda environments, you will need to specify unique names for the kernelspecs.\n",
    "\n",
    "<pre>\n",
    "activate myenv\n",
    "python -m ipykernel install --user --name myenv --display-name \"Python (myenv)\"\n",
    "activate other-env\n",
    "python -m ipykernel install --user --name other-env --display-name \"Python (other-env)\"\n",
    "</pre>\n",
    "\n",
    "The --name value is used by Jupyter internally. These commands will overwrite any existing kernel with the same name. --display-name is what you see in the notebook menus. For more information, [read the IPython docs](https://ipython.readthedocs.io/en/stable/install/kernel_install.html)"
   ]
  },
  {
   "cell_type": "code",
   "execution_count": null,
   "metadata": {
    "collapsed": true
   },
   "outputs": [],
   "source": []
  }
 ],
 "metadata": {
  "kernelspec": {
   "display_name": "Python 3",
   "language": "python",
   "name": "python3"
  },
  "language_info": {
   "codemirror_mode": {
    "name": "ipython",
    "version": 3
   },
   "file_extension": ".py",
   "mimetype": "text/x-python",
   "name": "python",
   "nbconvert_exporter": "python",
   "pygments_lexer": "ipython3",
   "version": "3.6.0"
  }
 },
 "nbformat": 4,
 "nbformat_minor": 2
}
