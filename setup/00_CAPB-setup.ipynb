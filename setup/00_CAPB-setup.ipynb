{
 "cells": [
  {
   "cell_type": "markdown",
   "metadata": {},
   "source": [
    "# CAPB - Working with Large Text or Excel Data Files"
   ]
  },
  {
   "cell_type": "markdown",
   "metadata": {},
   "source": [
    "## Install Anaconda or Miniconda\n",
    "\n",
    "You can choose the Python version 2.X or 3.X. I recommend 3.X because it is the newer version and eventually 2.X will stop being developed.\n",
    "\n",
    "Anaconda includes a lot more than Miniconda which makes it a much larger software package to install. I would recommend the Anaconda Graphical Installer because it includes a user interface to interact with instead of just a command prompt / terminal, but if you don't have a lot of space on your computer, the Miniconda version is fine.\n",
    "\n",
    "***if you are running Windows, check to see if your computer is a 32-bit or 64-bit system and select the correct anaconda version to install. If you don't know how to check, follow this [link](https://support.microsoft.com/en-us/help/827218/how-to-determine-whether-a-computer-is-running-a-32-bit-version-or-64)\n",
    "\n",
    "[Anaconda download link](https://www.anaconda.com/distribution/)\n",
    "\n",
    "[Miniconda download link](https://docs.conda.io/en/latest/miniconda.html)"
   ]
  },
  {
   "cell_type": "markdown",
   "metadata": {},
   "source": [
    "## After Installing Anaconda / Miniconda\n",
    "\n",
    "After you have successfully installed Anaconda or Miniconda, open an Anaconda prompt\n",
    "\n",
    "![Anaconda Prompt](anaconda_prompt.PNG \"This is what it will look like on a Windows computer\")\n",
    "\n",
    "This is what it will look like on a Windows computer"
   ]
  },
  {
   "cell_type": "markdown",
   "metadata": {},
   "source": [
    "Type in the following command <code> cd Desktop </code> and press Enter\n",
    "\n",
    "You have moved into your Desktop folder\n",
    "\n",
    "Now type <code>git clone https://github.com/btw1027/CAPB </code> and press Enter\n",
    "\n",
    "This command downloads (clones) a folder (repository) from github (version control software) with all the files for the CAPB workshop"
   ]
  },
  {
   "cell_type": "code",
   "execution_count": null,
   "metadata": {},
   "outputs": [],
   "source": []
  }
 ],
 "metadata": {
  "kernelspec": {
   "display_name": "CAPB",
   "language": "python",
   "name": "capb"
  },
  "language_info": {
   "codemirror_mode": {
    "name": "ipython",
    "version": 3
   },
   "file_extension": ".py",
   "mimetype": "text/x-python",
   "name": "python",
   "nbconvert_exporter": "python",
   "pygments_lexer": "ipython3",
   "version": "3.7.1"
  }
 },
 "nbformat": 4,
 "nbformat_minor": 2
}
