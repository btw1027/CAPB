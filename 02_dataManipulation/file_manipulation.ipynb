{
 "cells": [
  {
   "cell_type": "markdown",
   "metadata": {},
   "source": [
    "# Manipulating Opera Phenix Analysis Data \n",
    "#### (Example: Determining Nuclear Count from Text File Data)\n",
    "\n",
    "* Python is a relatively user-friendly, readable programming language\n",
    "* Importing Opera Phenix text file data and manipulating it into something useful takes only a few lines of code\n",
    "* Although Python is well equipped to manipulate data from a text file to an excel file, it is capable of much much more!"
   ]
  },
  {
   "cell_type": "code",
   "execution_count": 1,
   "metadata": {},
   "outputs": [],
   "source": [
    "from helperFunctions import get_file, get_folder, saveas_filename\n",
    "import pandas as pd\n",
    "import os\n",
    "from matplotlib import pyplot as plt"
   ]
  },
  {
   "cell_type": "code",
   "execution_count": 5,
   "metadata": {},
   "outputs": [],
   "source": [
    "#select a file\n",
    "filename = get_file() "
   ]
  },
  {
   "cell_type": "code",
   "execution_count": 6,
   "metadata": {},
   "outputs": [
    {
     "data": {
      "text/plain": [
       "'C:/Users/Ben/Desktop/capb/2018-10-10 MCF7 for Corteva.txt'"
      ]
     },
     "execution_count": 6,
     "metadata": {},
     "output_type": "execute_result"
    }
   ],
   "source": [
    "filename"
   ]
  },
  {
   "cell_type": "code",
   "execution_count": 7,
   "metadata": {},
   "outputs": [],
   "source": [
    "#import data into a dataframe, the separator in this example is a tab (\\t) and the headers are on row 9 (python is 0 indexed so row 1 in the text file is row 0 to python)\n",
    "data = pd.read_csv(filename, sep='\\t', header=9) "
   ]
  },
  {
   "cell_type": "code",
   "execution_count": 8,
   "metadata": {},
   "outputs": [
    {
     "data": {
      "text/html": [
       "<div>\n",
       "<style scoped>\n",
       "    .dataframe tbody tr th:only-of-type {\n",
       "        vertical-align: middle;\n",
       "    }\n",
       "\n",
       "    .dataframe tbody tr th {\n",
       "        vertical-align: top;\n",
       "    }\n",
       "\n",
       "    .dataframe thead th {\n",
       "        text-align: right;\n",
       "    }\n",
       "</style>\n",
       "<table border=\"1\" class=\"dataframe\">\n",
       "  <thead>\n",
       "    <tr style=\"text-align: right;\">\n",
       "      <th></th>\n",
       "      <th>Row</th>\n",
       "      <th>Column</th>\n",
       "      <th>Plane</th>\n",
       "      <th>Timepoint</th>\n",
       "      <th>Field</th>\n",
       "      <th>Object No</th>\n",
       "      <th>X</th>\n",
       "      <th>Y</th>\n",
       "      <th>Bounding Box</th>\n",
       "      <th>Position X [µm]</th>\n",
       "      <th>Position Y [µm]</th>\n",
       "      <th>Compound</th>\n",
       "      <th>Concentration</th>\n",
       "      <th>Cell Type</th>\n",
       "      <th>Cell Count</th>\n",
       "      <th>Good-Questionable Wells</th>\n",
       "      <th>Replicate</th>\n",
       "      <th>Nuclei - ROI No</th>\n",
       "    </tr>\n",
       "  </thead>\n",
       "  <tbody>\n",
       "    <tr>\n",
       "      <th>0</th>\n",
       "      <td>1</td>\n",
       "      <td>5</td>\n",
       "      <td>16</td>\n",
       "      <td>0</td>\n",
       "      <td>4</td>\n",
       "      <td>1</td>\n",
       "      <td>632</td>\n",
       "      <td>361</td>\n",
       "      <td>[624,354,639,371]</td>\n",
       "      <td>-556.17</td>\n",
       "      <td>-663.26</td>\n",
       "      <td>DCC</td>\n",
       "      <td>0.0</td>\n",
       "      <td>MCF7</td>\n",
       "      <td>NaN</td>\n",
       "      <td>Good</td>\n",
       "      <td>1.0</td>\n",
       "      <td>1</td>\n",
       "    </tr>\n",
       "    <tr>\n",
       "      <th>1</th>\n",
       "      <td>1</td>\n",
       "      <td>5</td>\n",
       "      <td>16</td>\n",
       "      <td>0</td>\n",
       "      <td>4</td>\n",
       "      <td>2</td>\n",
       "      <td>621</td>\n",
       "      <td>387</td>\n",
       "      <td>[613,372,641,400]</td>\n",
       "      <td>-559.86</td>\n",
       "      <td>-677.94</td>\n",
       "      <td>DCC</td>\n",
       "      <td>0.0</td>\n",
       "      <td>MCF7</td>\n",
       "      <td>NaN</td>\n",
       "      <td>Good</td>\n",
       "      <td>1.0</td>\n",
       "      <td>1</td>\n",
       "    </tr>\n",
       "    <tr>\n",
       "      <th>2</th>\n",
       "      <td>1</td>\n",
       "      <td>5</td>\n",
       "      <td>16</td>\n",
       "      <td>0</td>\n",
       "      <td>4</td>\n",
       "      <td>3</td>\n",
       "      <td>599</td>\n",
       "      <td>387</td>\n",
       "      <td>[582,379,613,400]</td>\n",
       "      <td>-576.33</td>\n",
       "      <td>-678.59</td>\n",
       "      <td>DCC</td>\n",
       "      <td>0.0</td>\n",
       "      <td>MCF7</td>\n",
       "      <td>NaN</td>\n",
       "      <td>Good</td>\n",
       "      <td>1.0</td>\n",
       "      <td>1</td>\n",
       "    </tr>\n",
       "    <tr>\n",
       "      <th>3</th>\n",
       "      <td>1</td>\n",
       "      <td>5</td>\n",
       "      <td>16</td>\n",
       "      <td>0</td>\n",
       "      <td>4</td>\n",
       "      <td>4</td>\n",
       "      <td>578</td>\n",
       "      <td>400</td>\n",
       "      <td>[571,393,586,407]</td>\n",
       "      <td>-587.22</td>\n",
       "      <td>-685.11</td>\n",
       "      <td>DCC</td>\n",
       "      <td>0.0</td>\n",
       "      <td>MCF7</td>\n",
       "      <td>NaN</td>\n",
       "      <td>Good</td>\n",
       "      <td>1.0</td>\n",
       "      <td>1</td>\n",
       "    </tr>\n",
       "    <tr>\n",
       "      <th>4</th>\n",
       "      <td>1</td>\n",
       "      <td>5</td>\n",
       "      <td>16</td>\n",
       "      <td>0</td>\n",
       "      <td>4</td>\n",
       "      <td>5</td>\n",
       "      <td>612</td>\n",
       "      <td>403</td>\n",
       "      <td>[602,395,621,412]</td>\n",
       "      <td>-568.50</td>\n",
       "      <td>-687.56</td>\n",
       "      <td>DCC</td>\n",
       "      <td>0.0</td>\n",
       "      <td>MCF7</td>\n",
       "      <td>NaN</td>\n",
       "      <td>Good</td>\n",
       "      <td>1.0</td>\n",
       "      <td>1</td>\n",
       "    </tr>\n",
       "  </tbody>\n",
       "</table>\n",
       "</div>"
      ],
      "text/plain": [
       "   Row  Column  Plane  Timepoint  Field  Object No    X    Y  \\\n",
       "0    1       5     16          0      4          1  632  361   \n",
       "1    1       5     16          0      4          2  621  387   \n",
       "2    1       5     16          0      4          3  599  387   \n",
       "3    1       5     16          0      4          4  578  400   \n",
       "4    1       5     16          0      4          5  612  403   \n",
       "\n",
       "        Bounding Box  Position X [µm]  Position Y [µm] Compound  \\\n",
       "0  [624,354,639,371]          -556.17          -663.26      DCC   \n",
       "1  [613,372,641,400]          -559.86          -677.94      DCC   \n",
       "2  [582,379,613,400]          -576.33          -678.59      DCC   \n",
       "3  [571,393,586,407]          -587.22          -685.11      DCC   \n",
       "4  [602,395,621,412]          -568.50          -687.56      DCC   \n",
       "\n",
       "   Concentration Cell Type  Cell Count Good-Questionable Wells  Replicate  \\\n",
       "0            0.0      MCF7         NaN                    Good        1.0   \n",
       "1            0.0      MCF7         NaN                    Good        1.0   \n",
       "2            0.0      MCF7         NaN                    Good        1.0   \n",
       "3            0.0      MCF7         NaN                    Good        1.0   \n",
       "4            0.0      MCF7         NaN                    Good        1.0   \n",
       "\n",
       "   Nuclei - ROI No  \n",
       "0                1  \n",
       "1                1  \n",
       "2                1  \n",
       "3                1  \n",
       "4                1  "
      ]
     },
     "execution_count": 8,
     "metadata": {},
     "output_type": "execute_result"
    }
   ],
   "source": [
    "#preview the first 5 rows of the dataframe to make sure it imported correctly\n",
    "data.head()"
   ]
  },
  {
   "cell_type": "code",
   "execution_count": 9,
   "metadata": {},
   "outputs": [],
   "source": [
    "#group the data you are interested in. In this example, each instance of the nuclei - ROI No column is summed to get the total number of nuclei\n",
    "#the groupby function essentially splits the data into groups that you specify and then can perform calculations on those groups\n",
    "#if you want to get the sum of variable1 when variable2,3,4 are grouped together then you would use data.groupby(['variable2', 'variable3', 'variable4'])['variable1'].sum()\n",
    "extracted_data = data.groupby(['Row', 'Column', 'Field', 'Concentration', 'Cell Type', 'Replicate', 'Compound'], as_index=False)['Nuclei - ROI No'].sum()"
   ]
  },
  {
   "cell_type": "code",
   "execution_count": 10,
   "metadata": {},
   "outputs": [
    {
     "data": {
      "text/html": [
       "<div>\n",
       "<style scoped>\n",
       "    .dataframe tbody tr th:only-of-type {\n",
       "        vertical-align: middle;\n",
       "    }\n",
       "\n",
       "    .dataframe tbody tr th {\n",
       "        vertical-align: top;\n",
       "    }\n",
       "\n",
       "    .dataframe thead th {\n",
       "        text-align: right;\n",
       "    }\n",
       "</style>\n",
       "<table border=\"1\" class=\"dataframe\">\n",
       "  <thead>\n",
       "    <tr style=\"text-align: right;\">\n",
       "      <th></th>\n",
       "      <th>Row</th>\n",
       "      <th>Column</th>\n",
       "      <th>Field</th>\n",
       "      <th>Concentration</th>\n",
       "      <th>Cell Type</th>\n",
       "      <th>Replicate</th>\n",
       "      <th>Compound</th>\n",
       "      <th>Nuclei - ROI No</th>\n",
       "    </tr>\n",
       "  </thead>\n",
       "  <tbody>\n",
       "    <tr>\n",
       "      <th>0</th>\n",
       "      <td>1</td>\n",
       "      <td>5</td>\n",
       "      <td>1</td>\n",
       "      <td>0.0</td>\n",
       "      <td>MCF7</td>\n",
       "      <td>1.0</td>\n",
       "      <td>DCC</td>\n",
       "      <td>442</td>\n",
       "    </tr>\n",
       "    <tr>\n",
       "      <th>1</th>\n",
       "      <td>1</td>\n",
       "      <td>5</td>\n",
       "      <td>2</td>\n",
       "      <td>0.0</td>\n",
       "      <td>MCF7</td>\n",
       "      <td>1.0</td>\n",
       "      <td>DCC</td>\n",
       "      <td>210</td>\n",
       "    </tr>\n",
       "    <tr>\n",
       "      <th>2</th>\n",
       "      <td>1</td>\n",
       "      <td>5</td>\n",
       "      <td>3</td>\n",
       "      <td>0.0</td>\n",
       "      <td>MCF7</td>\n",
       "      <td>1.0</td>\n",
       "      <td>DCC</td>\n",
       "      <td>306</td>\n",
       "    </tr>\n",
       "    <tr>\n",
       "      <th>3</th>\n",
       "      <td>1</td>\n",
       "      <td>5</td>\n",
       "      <td>4</td>\n",
       "      <td>0.0</td>\n",
       "      <td>MCF7</td>\n",
       "      <td>1.0</td>\n",
       "      <td>DCC</td>\n",
       "      <td>304</td>\n",
       "    </tr>\n",
       "    <tr>\n",
       "      <th>4</th>\n",
       "      <td>1</td>\n",
       "      <td>6</td>\n",
       "      <td>1</td>\n",
       "      <td>0.0</td>\n",
       "      <td>MCF7</td>\n",
       "      <td>2.0</td>\n",
       "      <td>DCC</td>\n",
       "      <td>527</td>\n",
       "    </tr>\n",
       "  </tbody>\n",
       "</table>\n",
       "</div>"
      ],
      "text/plain": [
       "   Row  Column  Field  Concentration Cell Type  Replicate Compound  \\\n",
       "0    1       5      1            0.0      MCF7        1.0      DCC   \n",
       "1    1       5      2            0.0      MCF7        1.0      DCC   \n",
       "2    1       5      3            0.0      MCF7        1.0      DCC   \n",
       "3    1       5      4            0.0      MCF7        1.0      DCC   \n",
       "4    1       6      1            0.0      MCF7        2.0      DCC   \n",
       "\n",
       "   Nuclei - ROI No  \n",
       "0              442  \n",
       "1              210  \n",
       "2              306  \n",
       "3              304  \n",
       "4              527  "
      ]
     },
     "execution_count": 10,
     "metadata": {},
     "output_type": "execute_result"
    }
   ],
   "source": [
    "extracted_data.head()"
   ]
  },
  {
   "cell_type": "code",
   "execution_count": 11,
   "metadata": {},
   "outputs": [],
   "source": [
    "#rename the Nuclei - ROI No column to Nuclear Count\n",
    "extracted_data.rename(columns = {'Nuclei - ROI No':'Nuclear Count'}, inplace = True)"
   ]
  },
  {
   "cell_type": "code",
   "execution_count": 12,
   "metadata": {},
   "outputs": [
    {
     "data": {
      "text/html": [
       "<div>\n",
       "<style scoped>\n",
       "    .dataframe tbody tr th:only-of-type {\n",
       "        vertical-align: middle;\n",
       "    }\n",
       "\n",
       "    .dataframe tbody tr th {\n",
       "        vertical-align: top;\n",
       "    }\n",
       "\n",
       "    .dataframe thead th {\n",
       "        text-align: right;\n",
       "    }\n",
       "</style>\n",
       "<table border=\"1\" class=\"dataframe\">\n",
       "  <thead>\n",
       "    <tr style=\"text-align: right;\">\n",
       "      <th></th>\n",
       "      <th>Row</th>\n",
       "      <th>Column</th>\n",
       "      <th>Field</th>\n",
       "      <th>Concentration</th>\n",
       "      <th>Cell Type</th>\n",
       "      <th>Replicate</th>\n",
       "      <th>Compound</th>\n",
       "      <th>Nuclear Count</th>\n",
       "    </tr>\n",
       "  </thead>\n",
       "  <tbody>\n",
       "    <tr>\n",
       "      <th>0</th>\n",
       "      <td>1</td>\n",
       "      <td>5</td>\n",
       "      <td>1</td>\n",
       "      <td>0.0</td>\n",
       "      <td>MCF7</td>\n",
       "      <td>1.0</td>\n",
       "      <td>DCC</td>\n",
       "      <td>442</td>\n",
       "    </tr>\n",
       "    <tr>\n",
       "      <th>1</th>\n",
       "      <td>1</td>\n",
       "      <td>5</td>\n",
       "      <td>2</td>\n",
       "      <td>0.0</td>\n",
       "      <td>MCF7</td>\n",
       "      <td>1.0</td>\n",
       "      <td>DCC</td>\n",
       "      <td>210</td>\n",
       "    </tr>\n",
       "    <tr>\n",
       "      <th>2</th>\n",
       "      <td>1</td>\n",
       "      <td>5</td>\n",
       "      <td>3</td>\n",
       "      <td>0.0</td>\n",
       "      <td>MCF7</td>\n",
       "      <td>1.0</td>\n",
       "      <td>DCC</td>\n",
       "      <td>306</td>\n",
       "    </tr>\n",
       "    <tr>\n",
       "      <th>3</th>\n",
       "      <td>1</td>\n",
       "      <td>5</td>\n",
       "      <td>4</td>\n",
       "      <td>0.0</td>\n",
       "      <td>MCF7</td>\n",
       "      <td>1.0</td>\n",
       "      <td>DCC</td>\n",
       "      <td>304</td>\n",
       "    </tr>\n",
       "    <tr>\n",
       "      <th>4</th>\n",
       "      <td>1</td>\n",
       "      <td>6</td>\n",
       "      <td>1</td>\n",
       "      <td>0.0</td>\n",
       "      <td>MCF7</td>\n",
       "      <td>2.0</td>\n",
       "      <td>DCC</td>\n",
       "      <td>527</td>\n",
       "    </tr>\n",
       "  </tbody>\n",
       "</table>\n",
       "</div>"
      ],
      "text/plain": [
       "   Row  Column  Field  Concentration Cell Type  Replicate Compound  \\\n",
       "0    1       5      1            0.0      MCF7        1.0      DCC   \n",
       "1    1       5      2            0.0      MCF7        1.0      DCC   \n",
       "2    1       5      3            0.0      MCF7        1.0      DCC   \n",
       "3    1       5      4            0.0      MCF7        1.0      DCC   \n",
       "4    1       6      1            0.0      MCF7        2.0      DCC   \n",
       "\n",
       "   Nuclear Count  \n",
       "0            442  \n",
       "1            210  \n",
       "2            306  \n",
       "3            304  \n",
       "4            527  "
      ]
     },
     "execution_count": 12,
     "metadata": {},
     "output_type": "execute_result"
    }
   ],
   "source": [
    "extracted_data.head()"
   ]
  },
  {
   "cell_type": "code",
   "execution_count": 13,
   "metadata": {},
   "outputs": [],
   "source": [
    "grouped = extracted_data.groupby(['Compound', 'Concentration'])['Nuclear Count']"
   ]
  },
  {
   "cell_type": "code",
   "execution_count": 14,
   "metadata": {},
   "outputs": [
    {
     "data": {
      "text/html": [
       "<div>\n",
       "<style scoped>\n",
       "    .dataframe tbody tr th:only-of-type {\n",
       "        vertical-align: middle;\n",
       "    }\n",
       "\n",
       "    .dataframe tbody tr th {\n",
       "        vertical-align: top;\n",
       "    }\n",
       "\n",
       "    .dataframe thead th {\n",
       "        text-align: right;\n",
       "    }\n",
       "</style>\n",
       "<table border=\"1\" class=\"dataframe\">\n",
       "  <thead>\n",
       "    <tr style=\"text-align: right;\">\n",
       "      <th></th>\n",
       "      <th></th>\n",
       "      <th>mean</th>\n",
       "      <th>std</th>\n",
       "    </tr>\n",
       "    <tr>\n",
       "      <th>Compound</th>\n",
       "      <th>Concentration</th>\n",
       "      <th></th>\n",
       "      <th></th>\n",
       "    </tr>\n",
       "  </thead>\n",
       "  <tbody>\n",
       "    <tr>\n",
       "      <th>DCC</th>\n",
       "      <th>0.0</th>\n",
       "      <td>355.400000</td>\n",
       "      <td>77.654701</td>\n",
       "    </tr>\n",
       "    <tr>\n",
       "      <th rowspan=\"4\" valign=\"top\">DPN</th>\n",
       "      <th>0.1</th>\n",
       "      <td>295.833333</td>\n",
       "      <td>74.555450</td>\n",
       "    </tr>\n",
       "    <tr>\n",
       "      <th>1.0</th>\n",
       "      <td>286.583333</td>\n",
       "      <td>68.889184</td>\n",
       "    </tr>\n",
       "    <tr>\n",
       "      <th>3.0</th>\n",
       "      <td>314.125000</td>\n",
       "      <td>40.818194</td>\n",
       "    </tr>\n",
       "    <tr>\n",
       "      <th>10.0</th>\n",
       "      <td>285.666667</td>\n",
       "      <td>73.874997</td>\n",
       "    </tr>\n",
       "  </tbody>\n",
       "</table>\n",
       "</div>"
      ],
      "text/plain": [
       "                              mean        std\n",
       "Compound Concentration                       \n",
       "DCC      0.0            355.400000  77.654701\n",
       "DPN      0.1            295.833333  74.555450\n",
       "         1.0            286.583333  68.889184\n",
       "         3.0            314.125000  40.818194\n",
       "         10.0           285.666667  73.874997"
      ]
     },
     "execution_count": 14,
     "metadata": {},
     "output_type": "execute_result"
    }
   ],
   "source": [
    "summary = grouped.aggregate(['mean', 'std'])\n",
    "summary.head()"
   ]
  },
  {
   "cell_type": "code",
   "execution_count": 15,
   "metadata": {},
   "outputs": [
    {
     "data": {
      "text/plain": [
       "Compound  Concentration\n",
       "DCC       0.0              355.400000\n",
       "DPN       0.1              295.833333\n",
       "          1.0              286.583333\n",
       "          3.0              314.125000\n",
       "          10.0             285.666667\n",
       "Name: Nuclear Count, dtype: float64"
      ]
     },
     "execution_count": 15,
     "metadata": {},
     "output_type": "execute_result"
    }
   ],
   "source": [
    "means = grouped.mean()\n",
    "means.head()"
   ]
  },
  {
   "cell_type": "code",
   "execution_count": 16,
   "metadata": {},
   "outputs": [
    {
     "data": {
      "text/plain": [
       "Compound  Concentration\n",
       "DCC       0.0              77.654701\n",
       "DPN       0.1              74.555450\n",
       "          1.0              68.889184\n",
       "          3.0              40.818194\n",
       "          10.0             73.874997\n",
       "Name: Nuclear Count, dtype: float64"
      ]
     },
     "execution_count": 16,
     "metadata": {},
     "output_type": "execute_result"
    }
   ],
   "source": [
    "stds = grouped.std()\n",
    "stds.head()"
   ]
  },
  {
   "cell_type": "code",
   "execution_count": 17,
   "metadata": {},
   "outputs": [],
   "source": [
    "font = {'family' : 'normal',\n",
    "        'weight' : 'bold',\n",
    "        'size'   : 18}\n",
    "\n",
    "plt.rc('font', **font)"
   ]
  },
  {
   "cell_type": "code",
   "execution_count": 18,
   "metadata": {},
   "outputs": [
    {
     "name": "stderr",
     "output_type": "stream",
     "text": [
      "C:\\ProgramData\\Anaconda3\\envs\\capb\\lib\\site-packages\\matplotlib\\font_manager.py:1241: UserWarning: findfont: Font family ['normal'] not found. Falling back to DejaVu Sans.\n",
      "  (prop.get_family(), self.defaultFamily[fontext]))\n"
     ]
    },
    {
     "data": {
      "image/png": "[encoded data removed]",
      "text/plain": [
       "<Figure size 1440x864 with 1 Axes>"
      ]
     },
     "metadata": {
      "needs_background": "light"
     },
     "output_type": "display_data"
    }
   ],
   "source": [
    "fig, ax = plt.subplots(figsize=(20,12));\n",
    "ax = means.unstack().plot(kind='bar', ax=ax, yerr=stds.unstack(), colormap='rainbow')\n",
    "ax.set_ylabel('Nuclei')\n",
    "fig.tight_layout()\n",
    "#plt.legend(loc='upper left')\n",
    "plt.show()\n"
   ]
  },
  {
   "cell_type": "code",
   "execution_count": 19,
   "metadata": {},
   "outputs": [],
   "source": [
    "compounds = extracted_data['Compound'].unique()"
   ]
  },
  {
   "cell_type": "code",
   "execution_count": 20,
   "metadata": {},
   "outputs": [
    {
     "name": "stderr",
     "output_type": "stream",
     "text": [
      "C:\\ProgramData\\Anaconda3\\envs\\capb\\lib\\site-packages\\matplotlib\\ticker.py:2241: UserWarning: Data has no positive values, and therefore cannot be log-scaled.\n",
      "  \"Data has no positive values, and therefore cannot be \"\n"
     ]
    },
    {
     "data": {
      "image/png": "[encoded data removed]",
      "text/plain": [
       "<Figure size 1296x1296 with 6 Axes>"
      ]
     },
     "metadata": {},
     "output_type": "display_data"
    }
   ],
   "source": [
    "fig, axs = plt.subplots(int(pd.np.ceil(len(compounds)/2)),int(pd.np.floor(len(compounds)/2)), figsize=(18, 18), facecolor='w', edgecolor='k')\n",
    "fig.subplots_adjust(hspace = .5, wspace=.25)\n",
    "axs = axs.ravel()\n",
    "for inx,compound in enumerate(compounds):\n",
    "    ax = axs[inx]\n",
    "    x = means[compound].reset_index()['Concentration'].tolist()\n",
    "    y = means[compound].reset_index()['Nuclear Count'].tolist()\n",
    "    err = stds[compound].reset_index()['Nuclear Count'].tolist()\n",
    "    ax.errorbar(x,y, yerr=err, linestyle='none', marker='o', capsize=3)\n",
    "    ax.set_xscale('log')\n",
    "    ax.set_title(compound)\n",
    "    ax.set_ylabel('Nuclei')\n",
    "    ax.set_xlabel('Concentration')\n",
    "    ax.set_ylim(0,max(y)*1.35)"
   ]
  },
  {
   "cell_type": "code",
   "execution_count": null,
   "metadata": {},
   "outputs": [],
   "source": [
    "data.head()"
   ]
  },
  {
   "cell_type": "code",
   "execution_count": null,
   "metadata": {},
   "outputs": [],
   "source": [
    "extracted_data.head()"
   ]
  },
  {
   "cell_type": "code",
   "execution_count": null,
   "metadata": {},
   "outputs": [],
   "source": [
    "summary.head()"
   ]
  },
  {
   "cell_type": "code",
   "execution_count": null,
   "metadata": {},
   "outputs": [],
   "source": [
    "summary.rename(columns={'mean':'Average Nuclear Count', 'std':'Standard Deviation'}, inplace=True)\n",
    "summary.head()"
   ]
  },
  {
   "cell_type": "code",
   "execution_count": null,
   "metadata": {},
   "outputs": [],
   "source": [
    "summary.reset_index(inplace=True)\n",
    "summary"
   ]
  },
  {
   "cell_type": "code",
   "execution_count": null,
   "metadata": {},
   "outputs": [],
   "source": [
    "suggested = os.path.split(os.path.splitext(filename)[0])[1].replace(\" \", \"\")+'.xlsx'\n",
    "suggested"
   ]
  },
  {
   "cell_type": "code",
   "execution_count": null,
   "metadata": {},
   "outputs": [],
   "source": [
    "savefilename = saveas_filename()"
   ]
  },
  {
   "cell_type": "code",
   "execution_count": null,
   "metadata": {},
   "outputs": [],
   "source": [
    "writer = pd.ExcelWriter(savefilename, engine='xlsxwriter')"
   ]
  },
  {
   "cell_type": "code",
   "execution_count": null,
   "metadata": {},
   "outputs": [],
   "source": [
    "summary.to_excel(writer, sheet_name='summary')\n",
    "extracted_data.to_excel(writer, sheet_name='binned_data')\n",
    "data.to_excel(writer, sheet_name='raw_data')"
   ]
  },
  {
   "cell_type": "code",
   "execution_count": null,
   "metadata": {},
   "outputs": [],
   "source": [
    "sheet3 = writer.sheets['raw_data']\n",
    "sheet2 = writer.sheets['binned_data']\n",
    "sheet1 = writer.sheets['summary']"
   ]
  },
  {
   "cell_type": "code",
   "execution_count": null,
   "metadata": {},
   "outputs": [],
   "source": [
    "def get_column_width(dataframe):\n",
    "    return [max([len(str(i))*1.25 for i in dataframe.index.values])]+[len(str(i))*1.25 for i in dataframe.columns]\n",
    "\n",
    "column_widths_3 = get_column_width(data)\n",
    "column_widths_2 = get_column_width(extracted_data)\n",
    "column_widths_1 = get_column_width(summary)\n"
   ]
  },
  {
   "cell_type": "code",
   "execution_count": null,
   "metadata": {},
   "outputs": [],
   "source": [
    "[sheet1.set_column(i,i,width) for i, width in enumerate(column_widths_1)]\n",
    "[sheet2.set_column(i,i,width) for i, width in enumerate(column_widths_2)]\n",
    "[sheet3.set_column(i,i,width) for i, width in enumerate(column_widths_3)];"
   ]
  },
  {
   "cell_type": "code",
   "execution_count": null,
   "metadata": {},
   "outputs": [],
   "source": [
    "writer.save()"
   ]
  },
  {
   "cell_type": "code",
   "execution_count": null,
   "metadata": {},
   "outputs": [],
   "source": []
  }
 ],
 "metadata": {
  "kernelspec": {
   "display_name": "CAPB",
   "language": "python",
   "name": "capb"
  },
  "language_info": {
   "codemirror_mode": {
    "name": "ipython",
    "version": 3
   },
   "file_extension": ".py",
   "mimetype": "text/x-python",
   "name": "python",
   "nbconvert_exporter": "python",
   "pygments_lexer": "ipython3",
   "version": "3.7.1"
  }
 },
 "nbformat": 4,
 "nbformat_minor": 2
}
